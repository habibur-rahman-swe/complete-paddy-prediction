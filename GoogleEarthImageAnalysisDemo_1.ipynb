{
  "nbformat": 4,
  "nbformat_minor": 0,
  "metadata": {
    "colab": {
      "provenance": [],
      "gpuType": "V28",
      "authorship_tag": "ABX9TyPGbGTCLFtei7/mHrQzo5ye",
      "include_colab_link": true
    },
    "kernelspec": {
      "name": "python3",
      "display_name": "Python 3"
    },
    "language_info": {
      "name": "python"
    },
    "accelerator": "TPU",
    "widgets": {
      "application/vnd.jupyter.widget-state+json": {
        "2c29faf5df574749b63ad7c321f3004d": {
          "model_module": "jupyter-leaflet",
          "model_name": "LeafletMapModel",
          "model_module_version": "^0.18",
          "state": {
            "_dom_classes": [],
            "_model_module": "jupyter-leaflet",
            "_model_module_version": "^0.18",
            "_model_name": "LeafletMapModel",
            "_view_count": null,
            "_view_module": "jupyter-leaflet",
            "_view_module_version": "^0.18",
            "_view_name": "LeafletMapView",
            "bottom": 14402,
            "bounce_at_zoom_limits": true,
            "box_zoom": true,
            "center": [
              24.307053283225915,
              91.90063476562501
            ],
            "close_popup_on_click": true,
            "controls": [
              "IPY_MODEL_5c3faeb536c143eb8cd35e537adf9303",
              "IPY_MODEL_8a8f079d08324e09add6d2b947f4cbb5",
              "IPY_MODEL_5ec46228299144858776da36d0f51257",
              "IPY_MODEL_662b70d07e6144bc96165ce2427938a7",
              "IPY_MODEL_93a818c184ae47adb13a53eebb439e44",
              "IPY_MODEL_28ed104de9394b2794de0fbf49e98e7d",
              "IPY_MODEL_5386e84c3db2420496e62c0485a0ef46",
              "IPY_MODEL_bb211e99ded9419fb1ae2699c51788f5",
              "IPY_MODEL_0d7d7c8a8d1147cb899d7e28cdfb4a35"
            ],
            "crs": {
              "name": "EPSG3857",
              "custom": false
            },
            "default_style": "IPY_MODEL_fd9ab0614d8e4a558c73f6e72466e418",
            "double_click_zoom": true,
            "dragging": true,
            "dragging_style": "IPY_MODEL_47d6ada1a8b04e70a04b9dfebaae4edf",
            "east": 98.70117187500001,
            "fullscreen": false,
            "inertia": true,
            "inertia_deceleration": 3000,
            "inertia_max_speed": 1500,
            "interpolation": "bilinear",
            "keyboard": true,
            "keyboard_pan_offset": 80,
            "keyboard_zoom_offset": 1,
            "layers": [
              "IPY_MODEL_1865adbc4d98477da34a44ce4f714738",
              "IPY_MODEL_e7c5afdbdbfb4daaaca1bbd4c74b5111"
            ],
            "layout": "IPY_MODEL_9ee4a1f0951c43b4b6f95a1c299cab17",
            "left": 24130,
            "max_zoom": 24,
            "min_zoom": null,
            "modisdate": "2024-07-11",
            "north": 27.27416111737468,
            "options": [
              "bounce_at_zoom_limits",
              "box_zoom",
              "center",
              "close_popup_on_click",
              "double_click_zoom",
              "dragging",
              "fullscreen",
              "inertia",
              "inertia_deceleration",
              "inertia_max_speed",
              "interpolation",
              "keyboard",
              "keyboard_pan_offset",
              "keyboard_zoom_offset",
              "max_zoom",
              "min_zoom",
              "prefer_canvas",
              "scroll_wheel_zoom",
              "tap",
              "tap_tolerance",
              "touch_zoom",
              "world_copy_jump",
              "zoom",
              "zoom_animation_threshold",
              "zoom_delta",
              "zoom_snap"
            ],
            "panes": {},
            "prefer_canvas": false,
            "right": 25368,
            "scroll_wheel_zoom": true,
            "south": 21.268899719967695,
            "style": "IPY_MODEL_fd9ab0614d8e4a558c73f6e72466e418",
            "tap": true,
            "tap_tolerance": 15,
            "top": 13802,
            "touch_zoom": true,
            "west": 85.10009765625,
            "window_url": "https://yodrsthsu2c-496ff2e9c6d22116-0-colab.googleusercontent.com/outputframe.html?vrz=colab_20240710-060127_RC00_650958940",
            "world_copy_jump": false,
            "zoom": 7,
            "zoom_animation_threshold": 4,
            "zoom_delta": 1,
            "zoom_snap": 1
          }
        },
        "5c3faeb536c143eb8cd35e537adf9303": {
          "model_module": "jupyter-leaflet",
          "model_name": "LeafletWidgetControlModel",
          "model_module_version": "^0.18",
          "state": {
            "_model_module": "jupyter-leaflet",
            "_model_module_version": "^0.18",
            "_model_name": "LeafletWidgetControlModel",
            "_view_count": null,
            "_view_module": "jupyter-leaflet",
            "_view_module_version": "^0.18",
            "_view_name": "LeafletWidgetControlView",
            "max_height": null,
            "max_width": null,
            "min_height": null,
            "min_width": null,
            "options": [
              "position",
              "transparent_bg"
            ],
            "position": "topleft",
            "transparent_bg": false,
            "widget": "IPY_MODEL_5462e2e0249045af8d9a974fb68da1f5"
          }
        },
        "8a8f079d08324e09add6d2b947f4cbb5": {
          "model_module": "jupyter-leaflet",
          "model_name": "LeafletZoomControlModel",
          "model_module_version": "^0.18",
          "state": {
            "_model_module": "jupyter-leaflet",
            "_model_module_version": "^0.18",
            "_model_name": "LeafletZoomControlModel",
            "_view_count": null,
            "_view_module": "jupyter-leaflet",
            "_view_module_version": "^0.18",
            "_view_name": "LeafletZoomControlView",
            "options": [
              "position",
              "zoom_in_text",
              "zoom_in_title",
              "zoom_out_text",
              "zoom_out_title"
            ],
            "position": "topleft",
            "zoom_in_text": "+",
            "zoom_in_title": "Zoom in",
            "zoom_out_text": "-",
            "zoom_out_title": "Zoom out"
          }
        },
        "5ec46228299144858776da36d0f51257": {
          "model_module": "jupyter-leaflet",
          "model_name": "LeafletFullScreenControlModel",
          "model_module_version": "^0.18",
          "state": {
            "_model_module": "jupyter-leaflet",
            "_model_module_version": "^0.18",
            "_model_name": "LeafletFullScreenControlModel",
            "_view_count": null,
            "_view_module": "jupyter-leaflet",
            "_view_module_version": "^0.18",
            "_view_name": "LeafletFullScreenControlView",
            "options": [
              "position"
            ],
            "position": "topleft"
          }
        },
        "662b70d07e6144bc96165ce2427938a7": {
          "model_module": "jupyter-leaflet",
          "model_name": "LeafletDrawControlModel",
          "model_module_version": "^0.18",
          "state": {
            "_model_module": "jupyter-leaflet",
            "_model_module_version": "^0.18",
            "_model_name": "LeafletDrawControlModel",
            "_view_count": null,
            "_view_module": "jupyter-leaflet",
            "_view_module_version": "^0.18",
            "_view_name": "LeafletDrawControlView",
            "circle": {},
            "circlemarker": {},
            "data": [],
            "edit": true,
            "marker": {
              "shapeOptions": {
                "color": "#3388ff"
              }
            },
            "options": [
              "position"
            ],
            "polygon": {
              "shapeOptions": {}
            },
            "polyline": {
              "shapeOptions": {}
            },
            "position": "topleft",
            "rectangle": {
              "shapeOptions": {
                "color": "#3388ff"
              }
            },
            "remove": true
          }
        },
        "93a818c184ae47adb13a53eebb439e44": {
          "model_module": "jupyter-leaflet",
          "model_name": "LeafletScaleControlModel",
          "model_module_version": "^0.18",
          "state": {
            "_model_module": "jupyter-leaflet",
            "_model_module_version": "^0.18",
            "_model_name": "LeafletScaleControlModel",
            "_view_count": null,
            "_view_module": "jupyter-leaflet",
            "_view_module_version": "^0.18",
            "_view_name": "LeafletScaleControlView",
            "imperial": true,
            "max_width": 100,
            "metric": true,
            "options": [
              "imperial",
              "max_width",
              "metric",
              "position",
              "update_when_idle"
            ],
            "position": "bottomleft",
            "update_when_idle": false
          }
        },
        "28ed104de9394b2794de0fbf49e98e7d": {
          "model_module": "jupyter-leaflet",
          "model_name": "LeafletMeasureControlModel",
          "model_module_version": "^0.18",
          "state": {
            "_custom_units": {},
            "_model_module": "jupyter-leaflet",
            "_model_module_version": "^0.18",
            "_model_name": "LeafletMeasureControlModel",
            "_view_count": null,
            "_view_module": "jupyter-leaflet",
            "_view_module_version": "^0.18",
            "_view_name": "LeafletMeasureControlView",
            "active_color": "orange",
            "capture_z_index": 10000,
            "completed_color": "#C8F2BE",
            "options": [
              "active_color",
              "capture_z_index",
              "completed_color",
              "popup_options",
              "position",
              "primary_area_unit",
              "primary_length_unit",
              "secondary_area_unit",
              "secondary_length_unit"
            ],
            "popup_options": {
              "className": "leaflet-measure-resultpopup",
              "autoPanPadding": [
                10,
                10
              ]
            },
            "position": "bottomleft",
            "primary_area_unit": "acres",
            "primary_length_unit": "kilometers",
            "secondary_area_unit": null,
            "secondary_length_unit": null
          }
        },
        "5386e84c3db2420496e62c0485a0ef46": {
          "model_module": "jupyter-leaflet",
          "model_name": "LeafletWidgetControlModel",
          "model_module_version": "^0.18",
          "state": {
            "_model_module": "jupyter-leaflet",
            "_model_module_version": "^0.18",
            "_model_name": "LeafletWidgetControlModel",
            "_view_count": null,
            "_view_module": "jupyter-leaflet",
            "_view_module_version": "^0.18",
            "_view_name": "LeafletWidgetControlView",
            "max_height": null,
            "max_width": null,
            "min_height": null,
            "min_width": null,
            "options": [
              "position",
              "transparent_bg"
            ],
            "position": "topright",
            "transparent_bg": false,
            "widget": "IPY_MODEL_d66ceba8b763458c84b6988a81d33b3e"
          }
        },
        "bb211e99ded9419fb1ae2699c51788f5": {
          "model_module": "jupyter-leaflet",
          "model_name": "LeafletAttributionControlModel",
          "model_module_version": "^0.18",
          "state": {
            "_model_module": "jupyter-leaflet",
            "_model_module_version": "^0.18",
            "_model_name": "LeafletAttributionControlModel",
            "_view_count": null,
            "_view_module": "jupyter-leaflet",
            "_view_module_version": "^0.18",
            "_view_name": "LeafletAttributionControlView",
            "options": [
              "position",
              "prefix"
            ],
            "position": "bottomright",
            "prefix": "ipyleaflet"
          }
        },
        "0d7d7c8a8d1147cb899d7e28cdfb4a35": {
          "model_module": "jupyter-leaflet",
          "model_name": "LeafletWidgetControlModel",
          "model_module_version": "^0.18",
          "state": {
            "_model_module": "jupyter-leaflet",
            "_model_module_version": "^0.18",
            "_model_name": "LeafletWidgetControlModel",
            "_view_count": null,
            "_view_module": "jupyter-leaflet",
            "_view_module_version": "^0.18",
            "_view_name": "LeafletWidgetControlView",
            "max_height": null,
            "max_width": null,
            "min_height": null,
            "min_width": null,
            "options": [
              "position",
              "transparent_bg"
            ],
            "position": "bottomright",
            "transparent_bg": false,
            "widget": "IPY_MODEL_39aafdd345864771a6922398949bebf6"
          }
        },
        "fd9ab0614d8e4a558c73f6e72466e418": {
          "model_module": "jupyter-leaflet",
          "model_name": "LeafletMapStyleModel",
          "model_module_version": "^0.18",
          "state": {
            "_model_module": "jupyter-leaflet",
            "_model_module_version": "^0.18",
            "_model_name": "LeafletMapStyleModel",
            "_view_count": null,
            "_view_module": "@jupyter-widgets/base",
            "_view_module_version": "1.2.0",
            "_view_name": "StyleView",
            "cursor": "grab"
          }
        },
        "47d6ada1a8b04e70a04b9dfebaae4edf": {
          "model_module": "jupyter-leaflet",
          "model_name": "LeafletMapStyleModel",
          "model_module_version": "^0.18",
          "state": {
            "_model_module": "jupyter-leaflet",
            "_model_module_version": "^0.18",
            "_model_name": "LeafletMapStyleModel",
            "_view_count": null,
            "_view_module": "@jupyter-widgets/base",
            "_view_module_version": "1.2.0",
            "_view_name": "StyleView",
            "cursor": "move"
          }
        },
        "1865adbc4d98477da34a44ce4f714738": {
          "model_module": "jupyter-leaflet",
          "model_name": "LeafletTileLayerModel",
          "model_module_version": "^0.18",
          "state": {
            "_model_module": "jupyter-leaflet",
            "_model_module_version": "^0.18",
            "_model_name": "LeafletTileLayerModel",
            "_view_count": null,
            "_view_module": "jupyter-leaflet",
            "_view_module_version": "^0.18",
            "_view_name": "LeafletTileLayerView",
            "attribution": "&copy; <a href=\"https://www.openstreetmap.org/copyright\">OpenStreetMap</a> contributors",
            "base": true,
            "bottom": true,
            "bounds": null,
            "detect_retina": false,
            "loading": false,
            "max_native_zoom": null,
            "max_zoom": 19,
            "min_native_zoom": null,
            "min_zoom": 1,
            "name": "OpenStreetMap.Mapnik",
            "no_wrap": false,
            "opacity": 1,
            "options": [
              "attribution",
              "bounds",
              "detect_retina",
              "max_native_zoom",
              "max_zoom",
              "min_native_zoom",
              "min_zoom",
              "no_wrap",
              "tile_size",
              "tms",
              "zoom_offset"
            ],
            "pane": "",
            "popup": null,
            "popup_max_height": null,
            "popup_max_width": 300,
            "popup_min_width": 50,
            "show_loading": false,
            "subitems": [],
            "tile_size": 256,
            "tms": false,
            "url": "https://tile.openstreetmap.org/{z}/{x}/{y}.png",
            "visible": true,
            "zoom_offset": 0
          }
        },
        "e7c5afdbdbfb4daaaca1bbd4c74b5111": {
          "model_module": "jupyter-leaflet",
          "model_name": "LeafletTileLayerModel",
          "model_module_version": "^0.18",
          "state": {
            "_model_module": "jupyter-leaflet",
            "_model_module_version": "^0.18",
            "_model_name": "LeafletTileLayerModel",
            "_view_count": null,
            "_view_module": "jupyter-leaflet",
            "_view_module_version": "^0.18",
            "_view_name": "LeafletTileLayerView",
            "attribution": "Google Earth Engine",
            "base": false,
            "bottom": true,
            "bounds": null,
            "detect_retina": false,
            "loading": false,
            "max_native_zoom": null,
            "max_zoom": 24,
            "min_native_zoom": null,
            "min_zoom": 0,
            "name": "Rice Paddies",
            "no_wrap": false,
            "opacity": 1,
            "options": [
              "attribution",
              "bounds",
              "detect_retina",
              "max_native_zoom",
              "max_zoom",
              "min_native_zoom",
              "min_zoom",
              "no_wrap",
              "tile_size",
              "tms",
              "zoom_offset"
            ],
            "pane": "",
            "popup": null,
            "popup_max_height": null,
            "popup_max_width": 300,
            "popup_min_width": 50,
            "show_loading": false,
            "subitems": [],
            "tile_size": 256,
            "tms": false,
            "url": "https://earthengine.googleapis.com/v1/projects/complete-prediction/maps/a68f778c9afb860839e3c0687f5a4e92-24472d5ec6f81512f9bff5c425223782/tiles/{z}/{x}/{y}",
            "visible": true,
            "zoom_offset": 0
          }
        },
        "9ee4a1f0951c43b4b6f95a1c299cab17": {
          "model_module": "@jupyter-widgets/base",
          "model_name": "LayoutModel",
          "model_module_version": "1.2.0",
          "state": {
            "_model_module": "@jupyter-widgets/base",
            "_model_module_version": "1.2.0",
            "_model_name": "LayoutModel",
            "_view_count": null,
            "_view_module": "@jupyter-widgets/base",
            "_view_module_version": "1.2.0",
            "_view_name": "LayoutView",
            "align_content": null,
            "align_items": null,
            "align_self": null,
            "border": null,
            "bottom": null,
            "display": null,
            "flex": null,
            "flex_flow": null,
            "grid_area": null,
            "grid_auto_columns": null,
            "grid_auto_flow": null,
            "grid_auto_rows": null,
            "grid_column": null,
            "grid_gap": null,
            "grid_row": null,
            "grid_template_areas": null,
            "grid_template_columns": null,
            "grid_template_rows": null,
            "height": "600px",
            "justify_content": null,
            "justify_items": null,
            "left": null,
            "margin": null,
            "max_height": null,
            "max_width": null,
            "min_height": null,
            "min_width": null,
            "object_fit": null,
            "object_position": null,
            "order": null,
            "overflow": null,
            "overflow_x": null,
            "overflow_y": null,
            "padding": null,
            "right": null,
            "top": null,
            "visibility": null,
            "width": null
          }
        },
        "fb89f230a2654d939664a6af59062b5b": {
          "model_module": "jupyter-leaflet",
          "model_name": "LeafletMapStyleModel",
          "model_module_version": "^0.18",
          "state": {
            "_model_module": "jupyter-leaflet",
            "_model_module_version": "^0.18",
            "_model_name": "LeafletMapStyleModel",
            "_view_count": null,
            "_view_module": "@jupyter-widgets/base",
            "_view_module_version": "1.2.0",
            "_view_name": "StyleView",
            "cursor": "grab"
          }
        },
        "5462e2e0249045af8d9a974fb68da1f5": {
          "model_module": "@jupyter-widgets/controls",
          "model_name": "HBoxModel",
          "model_module_version": "1.5.0",
          "state": {
            "_dom_classes": [
              "geemap-colab"
            ],
            "_model_module": "@jupyter-widgets/controls",
            "_model_module_version": "1.5.0",
            "_model_name": "HBoxModel",
            "_view_count": null,
            "_view_module": "@jupyter-widgets/controls",
            "_view_module_version": "1.5.0",
            "_view_name": "HBoxView",
            "box_style": "",
            "children": [
              "IPY_MODEL_14a781983cd64fee826f7bdc84657d73"
            ],
            "layout": "IPY_MODEL_d5c591f177104cdc9801e79217f33499"
          }
        },
        "d66ceba8b763458c84b6988a81d33b3e": {
          "model_module": "@jupyter-widgets/controls",
          "model_name": "VBoxModel",
          "model_module_version": "1.5.0",
          "state": {
            "_dom_classes": [
              "geemap-colab"
            ],
            "_model_module": "@jupyter-widgets/controls",
            "_model_module_version": "1.5.0",
            "_model_name": "VBoxModel",
            "_view_count": null,
            "_view_module": "@jupyter-widgets/controls",
            "_view_module_version": "1.5.0",
            "_view_name": "VBoxView",
            "box_style": "",
            "children": [
              "IPY_MODEL_ff3ff0c0cbfd410aa5a65d6fc7c2cef6"
            ],
            "layout": "IPY_MODEL_5cb5114fdb114c36b0bd085def892dad"
          }
        },
        "39aafdd345864771a6922398949bebf6": {
          "model_module": "@jupyter-widgets/output",
          "model_name": "OutputModel",
          "model_module_version": "1.0.0",
          "state": {
            "_dom_classes": [
              "geemap-colab"
            ],
            "_model_module": "@jupyter-widgets/output",
            "_model_module_version": "1.0.0",
            "_model_name": "OutputModel",
            "_view_count": null,
            "_view_module": "@jupyter-widgets/output",
            "_view_module_version": "1.0.0",
            "_view_name": "OutputView",
            "layout": "IPY_MODEL_1811e1865707453a8c8f0015a0bb7887",
            "msg_id": "",
            "outputs": [
              {
                "output_type": "display_data",
                "data": {
                  "text/plain": "<Figure size 300x30 with 1 Axes>",
                  "image/png": "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\n"
                },
                "metadata": {}
              }
            ]
          }
        },
        "14a781983cd64fee826f7bdc84657d73": {
          "model_module": "@jupyter-widgets/controls",
          "model_name": "ToggleButtonModel",
          "model_module_version": "1.5.0",
          "state": {
            "_dom_classes": [],
            "_model_module": "@jupyter-widgets/controls",
            "_model_module_version": "1.5.0",
            "_model_name": "ToggleButtonModel",
            "_view_count": null,
            "_view_module": "@jupyter-widgets/controls",
            "_view_module_version": "1.5.0",
            "_view_name": "ToggleButtonView",
            "button_style": "",
            "description": "",
            "description_tooltip": null,
            "disabled": false,
            "icon": "globe",
            "layout": "IPY_MODEL_7772dbe7571b4962b60ea7f572be0e0f",
            "style": "IPY_MODEL_cb605b310f734d55be283f1595c00ba2",
            "tooltip": "Search location/data",
            "value": false
          }
        },
        "d5c591f177104cdc9801e79217f33499": {
          "model_module": "@jupyter-widgets/base",
          "model_name": "LayoutModel",
          "model_module_version": "1.2.0",
          "state": {
            "_model_module": "@jupyter-widgets/base",
            "_model_module_version": "1.2.0",
            "_model_name": "LayoutModel",
            "_view_count": null,
            "_view_module": "@jupyter-widgets/base",
            "_view_module_version": "1.2.0",
            "_view_name": "LayoutView",
            "align_content": null,
            "align_items": null,
            "align_self": null,
            "border": null,
            "bottom": null,
            "display": null,
            "flex": null,
            "flex_flow": null,
            "grid_area": null,
            "grid_auto_columns": null,
            "grid_auto_flow": null,
            "grid_auto_rows": null,
            "grid_column": null,
            "grid_gap": null,
            "grid_row": null,
            "grid_template_areas": null,
            "grid_template_columns": null,
            "grid_template_rows": null,
            "height": null,
            "justify_content": null,
            "justify_items": null,
            "left": null,
            "margin": null,
            "max_height": null,
            "max_width": null,
            "min_height": null,
            "min_width": null,
            "object_fit": null,
            "object_position": null,
            "order": null,
            "overflow": null,
            "overflow_x": null,
            "overflow_y": null,
            "padding": null,
            "right": null,
            "top": null,
            "visibility": null,
            "width": null
          }
        },
        "ff3ff0c0cbfd410aa5a65d6fc7c2cef6": {
          "model_module": "@jupyter-widgets/controls",
          "model_name": "ToggleButtonModel",
          "model_module_version": "1.5.0",
          "state": {
            "_dom_classes": [],
            "_model_module": "@jupyter-widgets/controls",
            "_model_module_version": "1.5.0",
            "_model_name": "ToggleButtonModel",
            "_view_count": null,
            "_view_module": "@jupyter-widgets/controls",
            "_view_module_version": "1.5.0",
            "_view_name": "ToggleButtonView",
            "button_style": "",
            "description": "",
            "description_tooltip": null,
            "disabled": false,
            "icon": "wrench",
            "layout": "IPY_MODEL_92d2927382d84ff6ba4762080648eef8",
            "style": "IPY_MODEL_e752441caddc43bb9b8eb973a213b76f",
            "tooltip": "Toolbar",
            "value": false
          }
        },
        "5cb5114fdb114c36b0bd085def892dad": {
          "model_module": "@jupyter-widgets/base",
          "model_name": "LayoutModel",
          "model_module_version": "1.2.0",
          "state": {
            "_model_module": "@jupyter-widgets/base",
            "_model_module_version": "1.2.0",
            "_model_name": "LayoutModel",
            "_view_count": null,
            "_view_module": "@jupyter-widgets/base",
            "_view_module_version": "1.2.0",
            "_view_name": "LayoutView",
            "align_content": null,
            "align_items": null,
            "align_self": null,
            "border": null,
            "bottom": null,
            "display": null,
            "flex": null,
            "flex_flow": null,
            "grid_area": null,
            "grid_auto_columns": null,
            "grid_auto_flow": null,
            "grid_auto_rows": null,
            "grid_column": null,
            "grid_gap": null,
            "grid_row": null,
            "grid_template_areas": null,
            "grid_template_columns": null,
            "grid_template_rows": null,
            "height": null,
            "justify_content": null,
            "justify_items": null,
            "left": null,
            "margin": null,
            "max_height": null,
            "max_width": null,
            "min_height": null,
            "min_width": null,
            "object_fit": null,
            "object_position": null,
            "order": null,
            "overflow": null,
            "overflow_x": null,
            "overflow_y": null,
            "padding": null,
            "right": null,
            "top": null,
            "visibility": null,
            "width": null
          }
        },
        "1811e1865707453a8c8f0015a0bb7887": {
          "model_module": "@jupyter-widgets/base",
          "model_name": "LayoutModel",
          "model_module_version": "1.2.0",
          "state": {
            "_model_module": "@jupyter-widgets/base",
            "_model_module_version": "1.2.0",
            "_model_name": "LayoutModel",
            "_view_count": null,
            "_view_module": "@jupyter-widgets/base",
            "_view_module_version": "1.2.0",
            "_view_name": "LayoutView",
            "align_content": null,
            "align_items": null,
            "align_self": null,
            "border": null,
            "bottom": null,
            "display": null,
            "flex": null,
            "flex_flow": null,
            "grid_area": null,
            "grid_auto_columns": null,
            "grid_auto_flow": null,
            "grid_auto_rows": null,
            "grid_column": null,
            "grid_gap": null,
            "grid_row": null,
            "grid_template_areas": null,
            "grid_template_columns": null,
            "grid_template_rows": null,
            "height": null,
            "justify_content": null,
            "justify_items": null,
            "left": null,
            "margin": null,
            "max_height": null,
            "max_width": null,
            "min_height": null,
            "min_width": null,
            "object_fit": null,
            "object_position": null,
            "order": null,
            "overflow": null,
            "overflow_x": null,
            "overflow_y": null,
            "padding": null,
            "right": null,
            "top": null,
            "visibility": null,
            "width": "270px"
          }
        },
        "7772dbe7571b4962b60ea7f572be0e0f": {
          "model_module": "@jupyter-widgets/base",
          "model_name": "LayoutModel",
          "model_module_version": "1.2.0",
          "state": {
            "_model_module": "@jupyter-widgets/base",
            "_model_module_version": "1.2.0",
            "_model_name": "LayoutModel",
            "_view_count": null,
            "_view_module": "@jupyter-widgets/base",
            "_view_module_version": "1.2.0",
            "_view_name": "LayoutView",
            "align_content": null,
            "align_items": null,
            "align_self": null,
            "border": null,
            "bottom": null,
            "display": null,
            "flex": null,
            "flex_flow": null,
            "grid_area": null,
            "grid_auto_columns": null,
            "grid_auto_flow": null,
            "grid_auto_rows": null,
            "grid_column": null,
            "grid_gap": null,
            "grid_row": null,
            "grid_template_areas": null,
            "grid_template_columns": null,
            "grid_template_rows": null,
            "height": "28px",
            "justify_content": null,
            "justify_items": null,
            "left": null,
            "margin": null,
            "max_height": null,
            "max_width": null,
            "min_height": null,
            "min_width": null,
            "object_fit": null,
            "object_position": null,
            "order": null,
            "overflow": null,
            "overflow_x": null,
            "overflow_y": null,
            "padding": "0px 0px 0px 4px",
            "right": null,
            "top": null,
            "visibility": null,
            "width": "28px"
          }
        },
        "cb605b310f734d55be283f1595c00ba2": {
          "model_module": "@jupyter-widgets/controls",
          "model_name": "DescriptionStyleModel",
          "model_module_version": "1.5.0",
          "state": {
            "_model_module": "@jupyter-widgets/controls",
            "_model_module_version": "1.5.0",
            "_model_name": "DescriptionStyleModel",
            "_view_count": null,
            "_view_module": "@jupyter-widgets/base",
            "_view_module_version": "1.2.0",
            "_view_name": "StyleView",
            "description_width": ""
          }
        },
        "92d2927382d84ff6ba4762080648eef8": {
          "model_module": "@jupyter-widgets/base",
          "model_name": "LayoutModel",
          "model_module_version": "1.2.0",
          "state": {
            "_model_module": "@jupyter-widgets/base",
            "_model_module_version": "1.2.0",
            "_model_name": "LayoutModel",
            "_view_count": null,
            "_view_module": "@jupyter-widgets/base",
            "_view_module_version": "1.2.0",
            "_view_name": "LayoutView",
            "align_content": null,
            "align_items": null,
            "align_self": null,
            "border": null,
            "bottom": null,
            "display": null,
            "flex": null,
            "flex_flow": null,
            "grid_area": null,
            "grid_auto_columns": null,
            "grid_auto_flow": null,
            "grid_auto_rows": null,
            "grid_column": null,
            "grid_gap": null,
            "grid_row": null,
            "grid_template_areas": null,
            "grid_template_columns": null,
            "grid_template_rows": null,
            "height": "28px",
            "justify_content": null,
            "justify_items": null,
            "left": null,
            "margin": null,
            "max_height": null,
            "max_width": null,
            "min_height": null,
            "min_width": null,
            "object_fit": null,
            "object_position": null,
            "order": null,
            "overflow": null,
            "overflow_x": null,
            "overflow_y": null,
            "padding": "0px 0px 0px 4px",
            "right": null,
            "top": null,
            "visibility": null,
            "width": "28px"
          }
        },
        "e752441caddc43bb9b8eb973a213b76f": {
          "model_module": "@jupyter-widgets/controls",
          "model_name": "DescriptionStyleModel",
          "model_module_version": "1.5.0",
          "state": {
            "_model_module": "@jupyter-widgets/controls",
            "_model_module_version": "1.5.0",
            "_model_name": "DescriptionStyleModel",
            "_view_count": null,
            "_view_module": "@jupyter-widgets/base",
            "_view_module_version": "1.2.0",
            "_view_name": "StyleView",
            "description_width": ""
          }
        }
      }
    }
  },
  "cells": [
    {
      "cell_type": "markdown",
      "metadata": {
        "id": "view-in-github",
        "colab_type": "text"
      },
      "source": [
        "<a href=\"https://colab.research.google.com/github/habibur-rahman-swe/complete-paddy-prediction/blob/main/GoogleEarthImageAnalysisDemo_1.ipynb\" target=\"_parent\"><img src=\"https://colab.research.google.com/assets/colab-badge.svg\" alt=\"Open In Colab\"/></a>"
      ]
    },
    {
      "cell_type": "code",
      "source": [
        "import ee\n",
        "import geemap\n",
        "import geopandas as gpd"
      ],
      "metadata": {
        "colab": {
          "base_uri": "https://localhost:8080/",
          "height": 17
        },
        "id": "x9N-YQmPdbXR",
        "outputId": "9bbc1c62-fb92-4f3f-ef09-8927345bc275"
      },
      "execution_count": 14,
      "outputs": [
        {
          "output_type": "display_data",
          "data": {
            "text/plain": [
              "<IPython.core.display.HTML object>"
            ],
            "text/html": [
              "\n",
              "            <style>\n",
              "                .geemap-dark {\n",
              "                    --jp-widgets-color: white;\n",
              "                    --jp-widgets-label-color: white;\n",
              "                    --jp-ui-font-color1: white;\n",
              "                    --jp-layout-color2: #454545;\n",
              "                    background-color: #383838;\n",
              "                }\n",
              "\n",
              "                .geemap-dark .jupyter-button {\n",
              "                    --jp-layout-color3: #383838;\n",
              "                }\n",
              "\n",
              "                .geemap-colab {\n",
              "                    background-color: var(--colab-primary-surface-color, white);\n",
              "                }\n",
              "\n",
              "                .geemap-colab .jupyter-button {\n",
              "                    --jp-layout-color3: var(--colab-primary-surface-color, white);\n",
              "                }\n",
              "            </style>\n",
              "            "
            ]
          },
          "metadata": {}
        }
      ]
    },
    {
      "cell_type": "code",
      "source": [
        "ee.Authenticate()\n",
        "project_id = 'complete-prediction'\n",
        "ee.Initialize(project=project_id)"
      ],
      "metadata": {
        "colab": {
          "base_uri": "https://localhost:8080/",
          "height": 17
        },
        "id": "dUBMZffyb9ph",
        "outputId": "746ce2c7-f8bb-40b0-a7c2-10f89b09345b"
      },
      "execution_count": 15,
      "outputs": [
        {
          "output_type": "display_data",
          "data": {
            "text/plain": [
              "<IPython.core.display.HTML object>"
            ],
            "text/html": [
              "\n",
              "            <style>\n",
              "                .geemap-dark {\n",
              "                    --jp-widgets-color: white;\n",
              "                    --jp-widgets-label-color: white;\n",
              "                    --jp-ui-font-color1: white;\n",
              "                    --jp-layout-color2: #454545;\n",
              "                    background-color: #383838;\n",
              "                }\n",
              "\n",
              "                .geemap-dark .jupyter-button {\n",
              "                    --jp-layout-color3: #383838;\n",
              "                }\n",
              "\n",
              "                .geemap-colab {\n",
              "                    background-color: var(--colab-primary-surface-color, white);\n",
              "                }\n",
              "\n",
              "                .geemap-colab .jupyter-button {\n",
              "                    --jp-layout-color3: var(--colab-primary-surface-color, white);\n",
              "                }\n",
              "            </style>\n",
              "            "
            ]
          },
          "metadata": {}
        }
      ]
    },
    {
      "cell_type": "code",
      "source": [
        "# Define the region of interest (Bangladesh)\n",
        "bangladesh = ee.FeatureCollection(\"FAO/GAUL/2015/level0\").filter(ee.Filter.eq('ADM0_NAME', 'Bangladesh'))\n",
        "\n",
        "# Load a satellite image collection (Sentinel-2)\n",
        "sentinel2 = ee.ImageCollection('COPERNICUS/S2_HARMONIZED').filterDate('2024-01-01', '2024-12-31').filterBounds(bangladesh)\n",
        "\n",
        "# Function to mask clouds\n",
        "def maskClouds(image):\n",
        "    cloud_prob = image.select('QA60')\n",
        "    return image.updateMask(cloud_prob.lt(1))\n",
        "\n",
        "# Apply the cloud masking function\n",
        "sentinel2 = sentinel2.map(maskClouds)\n",
        "\n",
        "# Create a median composite image\n",
        "median_image = sentinel2.median().clip(bangladesh)\n",
        "\n",
        "# Define a vegetation index (NDVI)\n",
        "ndvi = median_image.normalizedDifference(['B8', 'B4']).rename('NDVI')\n",
        "\n",
        "# Threshold NDVI to classify rice paddies (assuming high NDVI values indicate rice paddies)\n",
        "rice_paddies = ndvi.gt(0.5).selfMask()\n",
        "\n",
        "# Calculate the area of rice paddies\n",
        "area_image = rice_paddies.multiply(ee.Image.pixelArea())\n",
        "area = area_image.reduceRegion(\n",
        "    reducer=ee.Reducer.sum(),\n",
        "    geometry=bangladesh.geometry(),\n",
        "    scale=30,\n",
        "    maxPixels=1e9\n",
        ")\n",
        "\n",
        "# Get the area in square kilometers\n",
        "rice_paddy_area_sq_km = area.getInfo()['NDVI'] / 1e6\n",
        "print(f'Total area of rice paddies in Bangladesh: {rice_paddy_area_sq_km} square kilometers')"
      ],
      "metadata": {
        "colab": {
          "base_uri": "https://localhost:8080/",
          "height": 34
        },
        "id": "R-UuQNWidnpY",
        "outputId": "b2fdc5f5-ee27-4e90-cd23-06f092bb91a1"
      },
      "execution_count": 30,
      "outputs": [
        {
          "output_type": "display_data",
          "data": {
            "text/plain": [
              "<IPython.core.display.HTML object>"
            ],
            "text/html": [
              "\n",
              "            <style>\n",
              "                .geemap-dark {\n",
              "                    --jp-widgets-color: white;\n",
              "                    --jp-widgets-label-color: white;\n",
              "                    --jp-ui-font-color1: white;\n",
              "                    --jp-layout-color2: #454545;\n",
              "                    background-color: #383838;\n",
              "                }\n",
              "\n",
              "                .geemap-dark .jupyter-button {\n",
              "                    --jp-layout-color3: #383838;\n",
              "                }\n",
              "\n",
              "                .geemap-colab {\n",
              "                    background-color: var(--colab-primary-surface-color, white);\n",
              "                }\n",
              "\n",
              "                .geemap-colab .jupyter-button {\n",
              "                    --jp-layout-color3: var(--colab-primary-surface-color, white);\n",
              "                }\n",
              "            </style>\n",
              "            "
            ]
          },
          "metadata": {}
        },
        {
          "output_type": "stream",
          "name": "stdout",
          "text": [
            "Total area of rice paddies in Bangladesh: 4878.006927676416 square kilometers\n"
          ]
        }
      ]
    },
    {
      "cell_type": "code",
      "source": [
        "# Initialize the map\n",
        "Map = geemap.Map()\n",
        "Map.centerObject(bangladesh, 8)\n",
        "# Add the rice paddies layer to the map\n",
        "Map.addLayer(rice_paddies, {'min': 0, 'max': 1, 'palette': 'green'}, 'Rice Paddies')\n",
        "# Add a colorbar (this is the corrected line)\n",
        "Map.add_colorbar(vis_params={'min': 0, 'max': 1, 'palette': 'green'}, label=\"Rice Paddies\", layer_name=\"Rice Paddies\")\n",
        "# Display the map\n",
        "Map\n"
      ],
      "metadata": {
        "colab": {
          "base_uri": "https://localhost:8080/",
          "height": 864,
          "referenced_widgets": [
            "2c29faf5df574749b63ad7c321f3004d",
            "5c3faeb536c143eb8cd35e537adf9303",
            "8a8f079d08324e09add6d2b947f4cbb5",
            "5ec46228299144858776da36d0f51257",
            "662b70d07e6144bc96165ce2427938a7",
            "93a818c184ae47adb13a53eebb439e44",
            "28ed104de9394b2794de0fbf49e98e7d",
            "5386e84c3db2420496e62c0485a0ef46",
            "bb211e99ded9419fb1ae2699c51788f5",
            "0d7d7c8a8d1147cb899d7e28cdfb4a35",
            "fd9ab0614d8e4a558c73f6e72466e418",
            "47d6ada1a8b04e70a04b9dfebaae4edf",
            "1865adbc4d98477da34a44ce4f714738",
            "e7c5afdbdbfb4daaaca1bbd4c74b5111",
            "9ee4a1f0951c43b4b6f95a1c299cab17",
            "fb89f230a2654d939664a6af59062b5b",
            "5462e2e0249045af8d9a974fb68da1f5",
            "d66ceba8b763458c84b6988a81d33b3e",
            "39aafdd345864771a6922398949bebf6",
            "14a781983cd64fee826f7bdc84657d73",
            "d5c591f177104cdc9801e79217f33499",
            "ff3ff0c0cbfd410aa5a65d6fc7c2cef6",
            "5cb5114fdb114c36b0bd085def892dad",
            "1811e1865707453a8c8f0015a0bb7887",
            "7772dbe7571b4962b60ea7f572be0e0f",
            "cb605b310f734d55be283f1595c00ba2",
            "92d2927382d84ff6ba4762080648eef8",
            "e752441caddc43bb9b8eb973a213b76f"
          ]
        },
        "id": "Jk6PF18gXdcC",
        "outputId": "b5ded103-d7ed-4a5e-8e8f-eebcbe8a4aa6"
      },
      "execution_count": 25,
      "outputs": [
        {
          "output_type": "display_data",
          "data": {
            "text/plain": [
              "<IPython.core.display.HTML object>"
            ],
            "text/html": [
              "\n",
              "            <style>\n",
              "                .geemap-dark {\n",
              "                    --jp-widgets-color: white;\n",
              "                    --jp-widgets-label-color: white;\n",
              "                    --jp-ui-font-color1: white;\n",
              "                    --jp-layout-color2: #454545;\n",
              "                    background-color: #383838;\n",
              "                }\n",
              "\n",
              "                .geemap-dark .jupyter-button {\n",
              "                    --jp-layout-color3: #383838;\n",
              "                }\n",
              "\n",
              "                .geemap-colab {\n",
              "                    background-color: var(--colab-primary-surface-color, white);\n",
              "                }\n",
              "\n",
              "                .geemap-colab .jupyter-button {\n",
              "                    --jp-layout-color3: var(--colab-primary-surface-color, white);\n",
              "                }\n",
              "            </style>\n",
              "            "
            ]
          },
          "metadata": {}
        },
        {
          "output_type": "stream",
          "name": "stdout",
          "text": [
            "The provided color (#) is invalid. Using the default black color.\n",
            "'##' is not in web format. Need 3 or 6 hex digit.\n",
            "The provided color (0) is invalid. Using the default black color.\n",
            "'#0' is not in web format. Need 3 or 6 hex digit.\n",
            "The provided color (0) is invalid. Using the default black color.\n",
            "'#0' is not in web format. Need 3 or 6 hex digit.\n",
            "The provided color (8) is invalid. Using the default black color.\n",
            "'#8' is not in web format. Need 3 or 6 hex digit.\n",
            "The provided color (0) is invalid. Using the default black color.\n",
            "'#0' is not in web format. Need 3 or 6 hex digit.\n",
            "The provided color (0) is invalid. Using the default black color.\n",
            "'#0' is not in web format. Need 3 or 6 hex digit.\n",
            "The provided color (0) is invalid. Using the default black color.\n",
            "'#0' is not in web format. Need 3 or 6 hex digit.\n"
          ]
        },
        {
          "output_type": "display_data",
          "data": {
            "text/plain": [
              "Map(center=[23.8270519912324, 90.28837386710796], controls=(WidgetControl(options=['position', 'transparent_bg…"
            ],
            "application/vnd.jupyter.widget-view+json": {
              "version_major": 2,
              "version_minor": 0,
              "model_id": "2c29faf5df574749b63ad7c321f3004d"
            }
          },
          "metadata": {
            "application/vnd.jupyter.widget-view+json": {
              "colab": {
                "custom_widget_manager": {
                  "url": "https://ssl.gstatic.com/colaboratory-static/widgets/colab-cdn-widget-manager/2b70e893a8ba7c0f/manager.min.js"
                }
              }
            }
          }
        }
      ]
    }
  ]
}